{
 "cells": [
  {
   "cell_type": "markdown",
   "metadata": {},
   "source": [
    "# DSCI 100 Project Proposal"
   ]
  },
  {
   "cell_type": "markdown",
   "metadata": {},
   "source": [
    "## Introduction"
   ]
  },
  {
   "cell_type": "markdown",
   "metadata": {},
   "source": [
    "### Background"
   ]
  },
  {
   "cell_type": "markdown",
   "metadata": {},
   "source": [
    "The goal of our project is to understand the difference between man made pollutants and compare and contrast it with sonar data that would be obtained from rocks. More specifically, we will look at the difference in sonar data from metallic cylinders alternatively known as mines. With accurate classification more can be known about the objects are within our oceans - simply by relying on sonar data. "
   ]
  },
  {
   "cell_type": "markdown",
   "metadata": {},
   "source": [
    "### Guiding Question"
   ]
  },
  {
   "cell_type": "markdown",
   "metadata": {},
   "source": [
    "How can we classify an observation from sonar data to see whether it is a rock or a metal cylinder?"
   ]
  },
  {
   "cell_type": "markdown",
   "metadata": {},
   "source": [
    "### Dataset"
   ]
  },
  {
   "cell_type": "markdown",
   "metadata": {},
   "source": [
    "We will train the model using the Connectionist Bench (Sonar, Mines vs. Rocks) Data Set from the University of California Irvine. The data contains 111 patterns sonar information from mines and 97 patterns from rocks (with data points taken at different angles). This will allow us to write a classification algorithm differentiating between the two objects. \n",
    "\n",
    "Link to the dataset: https://archive.ics.uci.edu/ml/datasets/Connectionist+Bench+(Sonar,+Mines+vs.+Rocks)"
   ]
  },
  {
   "cell_type": "markdown",
   "metadata": {},
   "source": [
    "## Preliminary exploratory data analysis "
   ]
  },
  {
   "cell_type": "markdown",
   "metadata": {},
   "source": [
    "### Loading libraries"
   ]
  },
  {
   "cell_type": "markdown",
   "metadata": {},
   "source": [
    "To process the data, we will be using the `tidyverse`, `repr`, and `rvest` packages. "
   ]
  },
  {
   "cell_type": "code",
   "execution_count": 4,
   "metadata": {},
   "outputs": [
    {
     "ename": "ERROR",
     "evalue": "Error in parse(text = x, srcfile = src): <text>:5:0: unexpected end of input\n3: library(rvest)\n4: library(cowplot\n  ^\n",
     "output_type": "error",
     "traceback": [
      "Error in parse(text = x, srcfile = src): <text>:5:0: unexpected end of input\n3: library(rvest)\n4: library(cowplot\n  ^\nTraceback:\n"
     ]
    }
   ],
   "source": [
    "library(tidyverse)\n",
    "library(repr)\n",
    "library(rvest)\n",
    "library(cowplot"
   ]
  },
  {
   "cell_type": "markdown",
   "metadata": {},
   "source": [
    "### Reading the data"
   ]
  },
  {
   "cell_type": "markdown",
   "metadata": {},
   "source": [
    "We will read the data directly from the UCI Machine Learning Repository (link https://archive.ics.uci.edu/ml/index.php). \n",
    "\n",
    "The last 10 rows will be outputted as a preview showing the current state of the data collected.\n",
    "\n",
    "It is worthwhile to note that there are 60 columns, each denoting the energy within a frequency band over a period of time. And, each observation is a number between 0 and 1. \n",
    "\n",
    "We also preprocess the data to move the column that we are classifying by to the first column rather than the end to make it more clear which each observation represents, thus making it easier during the tidying stage."
   ]
  },
  {
   "cell_type": "code",
   "execution_count": 7,
   "metadata": {},
   "outputs": [
    {
     "ename": "ERROR",
     "evalue": "Error in read_csv(\"https://archive.ics.uci.edu/ml/machine-learning-databases/undocumented/connectionist-bench/sonar/sonar.all-data\", : could not find function \"read_csv\"\n",
     "output_type": "error",
     "traceback": [
      "Error in read_csv(\"https://archive.ics.uci.edu/ml/machine-learning-databases/undocumented/connectionist-bench/sonar/sonar.all-data\", : could not find function \"read_csv\"\nTraceback:\n"
     ]
    }
   ],
   "source": [
    "data <- read_csv(\"https://archive.ics.uci.edu/ml/machine-learning-databases/undocumented/connectionist-bench/sonar/sonar.all-data\", col_names=FALSE)\n",
    "\n",
    "data1 <- read_csv(\"https://archive.ics.uci.edu/ml/machine-learning-databases/undocumented/connectionist-bench/sonar/sonar.all-data\", col_names=FALSE) %>%\n",
    "    select(-X61)\n",
    "\n",
    "categories <- read_csv(\"https://archive.ics.uci.edu/ml/machine-learning-databases/undocumented/connectionist-bench/sonar/sonar.all-data\", col_names=FALSE) %>%\n",
    "    pull(X61)\n",
    "\n",
    "sonar_data <- tibble(categories, data1) %>%\n",
    "    mutate(categories = as_factor(categories))\n",
    "\n",
    "tail(sonar_data, 10) # only last 10 rows will be outputted as a preview"
   ]
  },
  {
   "cell_type": "markdown",
   "metadata": {},
   "source": [
    "### Tidying the data"
   ]
  },
  {
   "cell_type": "code",
   "execution_count": 8,
   "metadata": {},
   "outputs": [
    {
     "ename": "ERROR",
     "evalue": "Error in read_csv(\"https://archive.ics.uci.edu/ml/machine-learning-databases/undocumented/connectionist-bench/sonar/sonar.all-data\", : could not find function \"%>%\"\n",
     "output_type": "error",
     "traceback": [
      "Error in read_csv(\"https://archive.ics.uci.edu/ml/machine-learning-databases/undocumented/connectionist-bench/sonar/sonar.all-data\", : could not find function \"%>%\"\nTraceback:\n"
     ]
    }
   ],
   "source": [
    "data1 <- read_csv(\"https://archive.ics.uci.edu/ml/machine-learning-databases/undocumented/connectionist-bench/sonar/sonar.all-data\", col_names=FALSE) %>%\n",
    "    select(-X61)\n",
    "\n",
    "categories <- read_csv(\"https://archive.ics.uci.edu/ml/machine-learning-databases/undocumented/connectionist-bench/sonar/sonar.all-data\", col_names=FALSE) %>%\n",
    "    pull(X61)\n",
    "\n",
    "sonar_data <- tibble(categories, data1) %>%\n",
    "    mutate(categories = as_factor(categories))"
   ]
  },
  {
   "cell_type": "markdown",
   "metadata": {},
   "source": [
    "### Finding the mean\n",
    "We plan to find the mean of each energy frequency as an indicator to classify by, and we will also do a second plot classifying by all the rows from X1:X60. "
   ]
  },
  {
   "cell_type": "code",
   "execution_count": 9,
   "metadata": {},
   "outputs": [
    {
     "ename": "ERROR",
     "evalue": "Error in sonar_data %>% rowwise() %>% mutate(mean2 = mean(c_across(X31:X60)), : could not find function \"%>%\"\n",
     "output_type": "error",
     "traceback": [
      "Error in sonar_data %>% rowwise() %>% mutate(mean2 = mean(c_across(X31:X60)), : could not find function \"%>%\"\nTraceback:\n"
     ]
    }
   ],
   "source": [
    "average_data <- sonar_data %>%\n",
    "    rowwise() %>%\n",
    "    mutate(mean2 = mean(c_across(X31:X60)), `.after` = categories) %>%\n",
    "    mutate(mean1 = mean(c_across(X1:X30)), `.after` = categories) %>%\n",
    "    mutate(mean = mean(c_across(X1:X60)), `.after` = categories) \n",
    "\n",
    "tail(average_data, 5) # previewing the average plots"
   ]
  },
  {
   "cell_type": "markdown",
   "metadata": {},
   "source": [
    "## Plot"
   ]
  },
  {
   "cell_type": "markdown",
   "metadata": {},
   "source": [
    "We will compare and classify based on two plots, one plot being X1 and X2 and another plot being the mean frequency from the first 30 rows of the data and the mean frequency from the next 30 rows of data. Using the two plots, we will compare how accurate the knn model is with each to get a better idea whether to take the mean or to find sample frequencies. "
   ]
  },
  {
   "cell_type": "code",
   "execution_count": 10,
   "metadata": {},
   "outputs": [
    {
     "ename": "ERROR",
     "evalue": "Error in ggplot(average_data, aes(x = mean1, y = mean2, , colour = categories)): could not find function \"ggplot\"\n",
     "output_type": "error",
     "traceback": [
      "Error in ggplot(average_data, aes(x = mean1, y = mean2, , colour = categories)): could not find function \"ggplot\"\nTraceback:\n"
     ]
    }
   ],
   "source": [
    "options(repr.plot.width = 10, repr.plot.height = 8)\n",
    "\n",
    "average_plot <- ggplot(average_data, aes(x = mean1, y = mean2, , colour = categories)) +\n",
    "    geom_point(alpha = 0.7) +\n",
    "        labs(x = \"Frequency from mean1\",\n",
    "             y = \"Frequency from mean2\",\n",
    "            colour = \"Category\") +\n",
    "        ggtitle(\"Frequency from mean 2 vs Frequency from mean 1\") +\n",
    "        theme(text = element_text(size = 20))"
   ]
  },
  {
   "cell_type": "code",
   "execution_count": 11,
   "metadata": {},
   "outputs": [
    {
     "ename": "ERROR",
     "evalue": "Error in sonar_data %>% ggplot(aes(x = X1, y = X2, colour = categories)): could not find function \"%>%\"\n",
     "output_type": "error",
     "traceback": [
      "Error in sonar_data %>% ggplot(aes(x = X1, y = X2, colour = categories)): could not find function \"%>%\"\nTraceback:\n"
     ]
    }
   ],
   "source": [
    "sonar_data_plot <- sonar_data %>%\n",
    "    ggplot(aes(x = X1, \n",
    "               y = X2, \n",
    "               colour = categories)) +\n",
    "        labs(x = \"Frequency from X1\",\n",
    "             y = \"Frequency from X2\",\n",
    "            colour = \"Category\") +\n",
    "        geom_point(size = 2.5) +\n",
    "        ggtitle(\"X2 Frequency vs X1 Frequency\") +\n",
    "        theme(text = element_text(size = 20))"
   ]
  },
  {
   "cell_type": "code",
   "execution_count": 5,
   "metadata": {},
   "outputs": [
    {
     "ename": "ERROR",
     "evalue": "Error in plot_grid(average_plot, sonar_data_plot): could not find function \"plot_grid\"\n",
     "output_type": "error",
     "traceback": [
      "Error in plot_grid(average_plot, sonar_data_plot): could not find function \"plot_grid\"\nTraceback:\n"
     ]
    }
   ],
   "source": [
    "options(repr.plot.width = 20, repr.plot.height = 8)\n",
    "\n",
    "plot_grid(average_plot, sonar_data_plot)"
   ]
  },
  {
   "cell_type": "markdown",
   "metadata": {},
   "source": [
    "# Method\n",
    "To conduct our anaylsis we will look at the different columns,X1,X2 etc and comapare the values that are given off, in order to identify what values are given off certain objects when sonar apparatus at different angles is used. We will use scatterplots so that we are able to use classification methods to predict future values that may be obtained to identify whether it is a rock or a mine (metallic object). We have spilt the data into 2 sections: one conatining the times 1 to 30 and the other 31 to 60 in order to detrmine whether time affects the energy given off. \n",
    "\n",
    "## Expected Outcomes and Significance\n",
    "After conducting our project we expect our analysis to be able to predict the types of objects that are under water. Scientists can use this data to map out the seafloors for sailors,divers,fishers,military etc. Our analysis could help scientits identify what objects are below by simply using our analysis as a result this saves times and ensures a safe route from our reliable analysis. It will help in preparation and allow for the best results, for example if fishers use the data they can identify the most benefitial place to set up their farms. This research can be used in the future by many people and could be a profit for many businesses like submarine companies, scientists seraching for valuable materials, or sailors navigating their routes. This study could eventually get people asking whether a more advanced data anaysis could be coded to specify the size, material and the likely shape of the object.\n"
   ]
  },
  {
   "cell_type": "code",
   "execution_count": null,
   "metadata": {},
   "outputs": [],
   "source": []
  }
 ],
 "metadata": {
  "kernelspec": {
   "display_name": "R",
   "language": "R",
   "name": "ir"
  },
  "language_info": {
   "codemirror_mode": "r",
   "file_extension": ".r",
   "mimetype": "text/x-r-source",
   "name": "R",
   "pygments_lexer": "r",
   "version": "4.0.0"
  }
 },
 "nbformat": 4,
 "nbformat_minor": 4
}
