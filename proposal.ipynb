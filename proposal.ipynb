{
 "cells": [
  {
   "cell_type": "markdown",
   "metadata": {},
   "source": [
    "# DSCI 100 Project Proposal"
   ]
  },
  {
   "cell_type": "markdown",
   "metadata": {},
   "source": [
    "## Introduction"
   ]
  },
  {
   "cell_type": "markdown",
   "metadata": {},
   "source": [
    "### Background"
   ]
  },
  {
   "cell_type": "markdown",
   "metadata": {},
   "source": [
    "The goal of our project is to understand the difference between man made pollutants and compare and contrast it with sonar data that would be obtained from rocks. More specifically, we will look at the difference in sonar data from metallic cylinders alternatively known as mines. With accurate classification more can be known about the objects are within our oceans - simply by relying on sonar data. "
   ]
  },
  {
   "cell_type": "markdown",
   "metadata": {},
   "source": [
    "### Guiding Question"
   ]
  },
  {
   "cell_type": "markdown",
   "metadata": {},
   "source": [
    "How can we classify an observation from sonar data to see whether it is a rock or a metal cylinder?"
   ]
  },
  {
   "cell_type": "markdown",
   "metadata": {},
   "source": [
    "### Dataset"
   ]
  },
  {
   "cell_type": "markdown",
   "metadata": {},
   "source": [
    "We will train the model using the Connectionist Bench (Sonar, Mines vs. Rocks) Data Set from the University of California Irvine. The data contains 111 patterns sonar information from mines and 97 patterns from rocks (with data points taken at different angles). This will allow us to write a classification algorithm differentiating between the two objects. \n",
    "\n",
    "Link to the dataset: https://archive.ics.uci.edu/ml/datasets/Connectionist+Bench+(Sonar,+Mines+vs.+Rocks)"
   ]
  },
  {
   "cell_type": "markdown",
   "metadata": {},
   "source": [
    "## Preliminary exploratory data analysis "
   ]
  },
  {
   "cell_type": "markdown",
   "metadata": {},
   "source": [
    "### Loading libraries"
   ]
  },
  {
   "cell_type": "markdown",
   "metadata": {},
   "source": [
    "To process the data, we will be using the `tidyverse`, `repr`, and `rvest` packages. "
   ]
  },
  {
   "cell_type": "code",
   "execution_count": 5,
   "metadata": {},
   "outputs": [
    {
     "name": "stderr",
     "output_type": "stream",
     "text": [
      "── \u001b[1mAttaching packages\u001b[22m ─────────────────────────────────────── tidyverse 1.3.0 ──\n",
      "\n",
      "\u001b[32m✔\u001b[39m \u001b[34mggplot2\u001b[39m 3.3.2     \u001b[32m✔\u001b[39m \u001b[34mpurrr  \u001b[39m 0.3.4\n",
      "\u001b[32m✔\u001b[39m \u001b[34mtibble \u001b[39m 3.0.3     \u001b[32m✔\u001b[39m \u001b[34mdplyr  \u001b[39m 1.0.2\n",
      "\u001b[32m✔\u001b[39m \u001b[34mtidyr  \u001b[39m 1.1.2     \u001b[32m✔\u001b[39m \u001b[34mstringr\u001b[39m 1.4.0\n",
      "\u001b[32m✔\u001b[39m \u001b[34mreadr  \u001b[39m 1.3.1     \u001b[32m✔\u001b[39m \u001b[34mforcats\u001b[39m 0.5.0\n",
      "\n",
      "Warning message:\n",
      "“package ‘ggplot2’ was built under R version 4.0.1”\n",
      "Warning message:\n",
      "“package ‘tibble’ was built under R version 4.0.2”\n",
      "Warning message:\n",
      "“package ‘tidyr’ was built under R version 4.0.2”\n",
      "Warning message:\n",
      "“package ‘dplyr’ was built under R version 4.0.2”\n",
      "── \u001b[1mConflicts\u001b[22m ────────────────────────────────────────── tidyverse_conflicts() ──\n",
      "\u001b[31m✖\u001b[39m \u001b[34mdplyr\u001b[39m::\u001b[32mfilter()\u001b[39m masks \u001b[34mstats\u001b[39m::filter()\n",
      "\u001b[31m✖\u001b[39m \u001b[34mdplyr\u001b[39m::\u001b[32mlag()\u001b[39m    masks \u001b[34mstats\u001b[39m::lag()\n",
      "\n",
      "Warning message:\n",
      "“package ‘rvest’ was built under R version 4.0.2”\n",
      "Loading required package: xml2\n",
      "\n",
      "\n",
      "Attaching package: ‘rvest’\n",
      "\n",
      "\n",
      "The following object is masked from ‘package:purrr’:\n",
      "\n",
      "    pluck\n",
      "\n",
      "\n",
      "The following object is masked from ‘package:readr’:\n",
      "\n",
      "    guess_encoding\n",
      "\n",
      "\n",
      "Warning message:\n",
      "“package ‘cowplot’ was built under R version 4.0.3”\n"
     ]
    }
   ],
   "source": [
    "library(tidyverse)\n",
    "library(repr)\n",
    "library(rvest)\n",
    "library(cowplot)"
   ]
  },
  {
   "cell_type": "markdown",
   "metadata": {},
   "source": [
    "### Reading the data"
   ]
  },
  {
   "cell_type": "markdown",
   "metadata": {},
   "source": [
    "We will read the data directly from the UCI Machine Learning Repository (link https://archive.ics.uci.edu/ml/index.php). \n",
    "\n",
    "The last 10 rows will be outputted as a preview showing the current state of the data collected.\n",
    "\n",
    "It is worthwhile to note that there are 60 columns, each denoting the energy within a frequency band over a period of time. And, each observation is a number between 0 and 1. \n",
    "\n",
    "We also preprocess the data to move the column that we are classifying by to the first column rather than the end to make it more clear which each observation represents, thus making it easier during the tidying stage."
   ]
  },
  {
   "cell_type": "code",
   "execution_count": 6,
   "metadata": {},
   "outputs": [
    {
     "name": "stderr",
     "output_type": "stream",
     "text": [
      "Parsed with column specification:\n",
      "cols(\n",
      "  .default = col_double(),\n",
      "  X61 = \u001b[31mcol_character()\u001b[39m\n",
      ")\n",
      "\n",
      "See spec(...) for full column specifications.\n",
      "\n",
      "Parsed with column specification:\n",
      "cols(\n",
      "  .default = col_double(),\n",
      "  X61 = \u001b[31mcol_character()\u001b[39m\n",
      ")\n",
      "\n",
      "See spec(...) for full column specifications.\n",
      "\n",
      "Parsed with column specification:\n",
      "cols(\n",
      "  .default = col_double(),\n",
      "  X61 = \u001b[31mcol_character()\u001b[39m\n",
      ")\n",
      "\n",
      "See spec(...) for full column specifications.\n",
      "\n"
     ]
    },
    {
     "data": {
      "text/html": [
       "<table>\n",
       "<caption>A tibble: 10 × 61</caption>\n",
       "<thead>\n",
       "\t<tr><th scope=col>categories</th><th scope=col>X1</th><th scope=col>X2</th><th scope=col>X3</th><th scope=col>X4</th><th scope=col>X5</th><th scope=col>X6</th><th scope=col>X7</th><th scope=col>X8</th><th scope=col>X9</th><th scope=col>⋯</th><th scope=col>X51</th><th scope=col>X52</th><th scope=col>X53</th><th scope=col>X54</th><th scope=col>X55</th><th scope=col>X56</th><th scope=col>X57</th><th scope=col>X58</th><th scope=col>X59</th><th scope=col>X60</th></tr>\n",
       "\t<tr><th scope=col>&lt;fct&gt;</th><th scope=col>&lt;dbl&gt;</th><th scope=col>&lt;dbl&gt;</th><th scope=col>&lt;dbl&gt;</th><th scope=col>&lt;dbl&gt;</th><th scope=col>&lt;dbl&gt;</th><th scope=col>&lt;dbl&gt;</th><th scope=col>&lt;dbl&gt;</th><th scope=col>&lt;dbl&gt;</th><th scope=col>&lt;dbl&gt;</th><th scope=col>⋯</th><th scope=col>&lt;dbl&gt;</th><th scope=col>&lt;dbl&gt;</th><th scope=col>&lt;dbl&gt;</th><th scope=col>&lt;dbl&gt;</th><th scope=col>&lt;dbl&gt;</th><th scope=col>&lt;dbl&gt;</th><th scope=col>&lt;dbl&gt;</th><th scope=col>&lt;dbl&gt;</th><th scope=col>&lt;dbl&gt;</th><th scope=col>&lt;dbl&gt;</th></tr>\n",
       "</thead>\n",
       "<tbody>\n",
       "\t<tr><td>M</td><td>0.0238</td><td>0.0318</td><td>0.0422</td><td>0.0399</td><td>0.0788</td><td>0.0766</td><td>0.0881</td><td>0.1143</td><td>0.1594</td><td>⋯</td><td>0.0186</td><td>0.0096</td><td>0.0071</td><td>0.0084</td><td>0.0038</td><td>0.0026</td><td>0.0028</td><td>0.0013</td><td>0.0035</td><td>0.0060</td></tr>\n",
       "\t<tr><td>M</td><td>0.0116</td><td>0.0744</td><td>0.0367</td><td>0.0225</td><td>0.0076</td><td>0.0545</td><td>0.1110</td><td>0.1069</td><td>0.1708</td><td>⋯</td><td>0.0202</td><td>0.0141</td><td>0.0103</td><td>0.0100</td><td>0.0034</td><td>0.0026</td><td>0.0037</td><td>0.0044</td><td>0.0057</td><td>0.0035</td></tr>\n",
       "\t<tr><td>M</td><td>0.0131</td><td>0.0387</td><td>0.0329</td><td>0.0078</td><td>0.0721</td><td>0.1341</td><td>0.1626</td><td>0.1902</td><td>0.2610</td><td>⋯</td><td>0.0137</td><td>0.0150</td><td>0.0076</td><td>0.0032</td><td>0.0037</td><td>0.0071</td><td>0.0040</td><td>0.0009</td><td>0.0015</td><td>0.0085</td></tr>\n",
       "\t<tr><td>M</td><td>0.0335</td><td>0.0258</td><td>0.0398</td><td>0.0570</td><td>0.0529</td><td>0.1091</td><td>0.1709</td><td>0.1684</td><td>0.1865</td><td>⋯</td><td>0.0130</td><td>0.0120</td><td>0.0039</td><td>0.0053</td><td>0.0062</td><td>0.0046</td><td>0.0045</td><td>0.0022</td><td>0.0005</td><td>0.0031</td></tr>\n",
       "\t<tr><td>M</td><td>0.0272</td><td>0.0378</td><td>0.0488</td><td>0.0848</td><td>0.1127</td><td>0.1103</td><td>0.1349</td><td>0.2337</td><td>0.3113</td><td>⋯</td><td>0.0146</td><td>0.0091</td><td>0.0045</td><td>0.0043</td><td>0.0043</td><td>0.0098</td><td>0.0054</td><td>0.0051</td><td>0.0065</td><td>0.0103</td></tr>\n",
       "\t<tr><td>M</td><td>0.0187</td><td>0.0346</td><td>0.0168</td><td>0.0177</td><td>0.0393</td><td>0.1630</td><td>0.2028</td><td>0.1694</td><td>0.2328</td><td>⋯</td><td>0.0203</td><td>0.0116</td><td>0.0098</td><td>0.0199</td><td>0.0033</td><td>0.0101</td><td>0.0065</td><td>0.0115</td><td>0.0193</td><td>0.0157</td></tr>\n",
       "\t<tr><td>M</td><td>0.0323</td><td>0.0101</td><td>0.0298</td><td>0.0564</td><td>0.0760</td><td>0.0958</td><td>0.0990</td><td>0.1018</td><td>0.1030</td><td>⋯</td><td>0.0051</td><td>0.0061</td><td>0.0093</td><td>0.0135</td><td>0.0063</td><td>0.0063</td><td>0.0034</td><td>0.0032</td><td>0.0062</td><td>0.0067</td></tr>\n",
       "\t<tr><td>M</td><td>0.0522</td><td>0.0437</td><td>0.0180</td><td>0.0292</td><td>0.0351</td><td>0.1171</td><td>0.1257</td><td>0.1178</td><td>0.1258</td><td>⋯</td><td>0.0155</td><td>0.0160</td><td>0.0029</td><td>0.0051</td><td>0.0062</td><td>0.0089</td><td>0.0140</td><td>0.0138</td><td>0.0077</td><td>0.0031</td></tr>\n",
       "\t<tr><td>M</td><td>0.0303</td><td>0.0353</td><td>0.0490</td><td>0.0608</td><td>0.0167</td><td>0.1354</td><td>0.1465</td><td>0.1123</td><td>0.1945</td><td>⋯</td><td>0.0042</td><td>0.0086</td><td>0.0046</td><td>0.0126</td><td>0.0036</td><td>0.0035</td><td>0.0034</td><td>0.0079</td><td>0.0036</td><td>0.0048</td></tr>\n",
       "\t<tr><td>M</td><td>0.0260</td><td>0.0363</td><td>0.0136</td><td>0.0272</td><td>0.0214</td><td>0.0338</td><td>0.0655</td><td>0.1400</td><td>0.1843</td><td>⋯</td><td>0.0181</td><td>0.0146</td><td>0.0129</td><td>0.0047</td><td>0.0039</td><td>0.0061</td><td>0.0040</td><td>0.0036</td><td>0.0061</td><td>0.0115</td></tr>\n",
       "</tbody>\n",
       "</table>\n"
      ],
      "text/latex": [
       "A tibble: 10 × 61\n",
       "\\begin{tabular}{lllllllllllllllllllll}\n",
       " categories & X1 & X2 & X3 & X4 & X5 & X6 & X7 & X8 & X9 & ⋯ & X51 & X52 & X53 & X54 & X55 & X56 & X57 & X58 & X59 & X60\\\\\n",
       " <fct> & <dbl> & <dbl> & <dbl> & <dbl> & <dbl> & <dbl> & <dbl> & <dbl> & <dbl> & ⋯ & <dbl> & <dbl> & <dbl> & <dbl> & <dbl> & <dbl> & <dbl> & <dbl> & <dbl> & <dbl>\\\\\n",
       "\\hline\n",
       "\t M & 0.0238 & 0.0318 & 0.0422 & 0.0399 & 0.0788 & 0.0766 & 0.0881 & 0.1143 & 0.1594 & ⋯ & 0.0186 & 0.0096 & 0.0071 & 0.0084 & 0.0038 & 0.0026 & 0.0028 & 0.0013 & 0.0035 & 0.0060\\\\\n",
       "\t M & 0.0116 & 0.0744 & 0.0367 & 0.0225 & 0.0076 & 0.0545 & 0.1110 & 0.1069 & 0.1708 & ⋯ & 0.0202 & 0.0141 & 0.0103 & 0.0100 & 0.0034 & 0.0026 & 0.0037 & 0.0044 & 0.0057 & 0.0035\\\\\n",
       "\t M & 0.0131 & 0.0387 & 0.0329 & 0.0078 & 0.0721 & 0.1341 & 0.1626 & 0.1902 & 0.2610 & ⋯ & 0.0137 & 0.0150 & 0.0076 & 0.0032 & 0.0037 & 0.0071 & 0.0040 & 0.0009 & 0.0015 & 0.0085\\\\\n",
       "\t M & 0.0335 & 0.0258 & 0.0398 & 0.0570 & 0.0529 & 0.1091 & 0.1709 & 0.1684 & 0.1865 & ⋯ & 0.0130 & 0.0120 & 0.0039 & 0.0053 & 0.0062 & 0.0046 & 0.0045 & 0.0022 & 0.0005 & 0.0031\\\\\n",
       "\t M & 0.0272 & 0.0378 & 0.0488 & 0.0848 & 0.1127 & 0.1103 & 0.1349 & 0.2337 & 0.3113 & ⋯ & 0.0146 & 0.0091 & 0.0045 & 0.0043 & 0.0043 & 0.0098 & 0.0054 & 0.0051 & 0.0065 & 0.0103\\\\\n",
       "\t M & 0.0187 & 0.0346 & 0.0168 & 0.0177 & 0.0393 & 0.1630 & 0.2028 & 0.1694 & 0.2328 & ⋯ & 0.0203 & 0.0116 & 0.0098 & 0.0199 & 0.0033 & 0.0101 & 0.0065 & 0.0115 & 0.0193 & 0.0157\\\\\n",
       "\t M & 0.0323 & 0.0101 & 0.0298 & 0.0564 & 0.0760 & 0.0958 & 0.0990 & 0.1018 & 0.1030 & ⋯ & 0.0051 & 0.0061 & 0.0093 & 0.0135 & 0.0063 & 0.0063 & 0.0034 & 0.0032 & 0.0062 & 0.0067\\\\\n",
       "\t M & 0.0522 & 0.0437 & 0.0180 & 0.0292 & 0.0351 & 0.1171 & 0.1257 & 0.1178 & 0.1258 & ⋯ & 0.0155 & 0.0160 & 0.0029 & 0.0051 & 0.0062 & 0.0089 & 0.0140 & 0.0138 & 0.0077 & 0.0031\\\\\n",
       "\t M & 0.0303 & 0.0353 & 0.0490 & 0.0608 & 0.0167 & 0.1354 & 0.1465 & 0.1123 & 0.1945 & ⋯ & 0.0042 & 0.0086 & 0.0046 & 0.0126 & 0.0036 & 0.0035 & 0.0034 & 0.0079 & 0.0036 & 0.0048\\\\\n",
       "\t M & 0.0260 & 0.0363 & 0.0136 & 0.0272 & 0.0214 & 0.0338 & 0.0655 & 0.1400 & 0.1843 & ⋯ & 0.0181 & 0.0146 & 0.0129 & 0.0047 & 0.0039 & 0.0061 & 0.0040 & 0.0036 & 0.0061 & 0.0115\\\\\n",
       "\\end{tabular}\n"
      ],
      "text/markdown": [
       "\n",
       "A tibble: 10 × 61\n",
       "\n",
       "| categories &lt;fct&gt; | X1 &lt;dbl&gt; | X2 &lt;dbl&gt; | X3 &lt;dbl&gt; | X4 &lt;dbl&gt; | X5 &lt;dbl&gt; | X6 &lt;dbl&gt; | X7 &lt;dbl&gt; | X8 &lt;dbl&gt; | X9 &lt;dbl&gt; | ⋯ ⋯ | X51 &lt;dbl&gt; | X52 &lt;dbl&gt; | X53 &lt;dbl&gt; | X54 &lt;dbl&gt; | X55 &lt;dbl&gt; | X56 &lt;dbl&gt; | X57 &lt;dbl&gt; | X58 &lt;dbl&gt; | X59 &lt;dbl&gt; | X60 &lt;dbl&gt; |\n",
       "|---|---|---|---|---|---|---|---|---|---|---|---|---|---|---|---|---|---|---|---|---|\n",
       "| M | 0.0238 | 0.0318 | 0.0422 | 0.0399 | 0.0788 | 0.0766 | 0.0881 | 0.1143 | 0.1594 | ⋯ | 0.0186 | 0.0096 | 0.0071 | 0.0084 | 0.0038 | 0.0026 | 0.0028 | 0.0013 | 0.0035 | 0.0060 |\n",
       "| M | 0.0116 | 0.0744 | 0.0367 | 0.0225 | 0.0076 | 0.0545 | 0.1110 | 0.1069 | 0.1708 | ⋯ | 0.0202 | 0.0141 | 0.0103 | 0.0100 | 0.0034 | 0.0026 | 0.0037 | 0.0044 | 0.0057 | 0.0035 |\n",
       "| M | 0.0131 | 0.0387 | 0.0329 | 0.0078 | 0.0721 | 0.1341 | 0.1626 | 0.1902 | 0.2610 | ⋯ | 0.0137 | 0.0150 | 0.0076 | 0.0032 | 0.0037 | 0.0071 | 0.0040 | 0.0009 | 0.0015 | 0.0085 |\n",
       "| M | 0.0335 | 0.0258 | 0.0398 | 0.0570 | 0.0529 | 0.1091 | 0.1709 | 0.1684 | 0.1865 | ⋯ | 0.0130 | 0.0120 | 0.0039 | 0.0053 | 0.0062 | 0.0046 | 0.0045 | 0.0022 | 0.0005 | 0.0031 |\n",
       "| M | 0.0272 | 0.0378 | 0.0488 | 0.0848 | 0.1127 | 0.1103 | 0.1349 | 0.2337 | 0.3113 | ⋯ | 0.0146 | 0.0091 | 0.0045 | 0.0043 | 0.0043 | 0.0098 | 0.0054 | 0.0051 | 0.0065 | 0.0103 |\n",
       "| M | 0.0187 | 0.0346 | 0.0168 | 0.0177 | 0.0393 | 0.1630 | 0.2028 | 0.1694 | 0.2328 | ⋯ | 0.0203 | 0.0116 | 0.0098 | 0.0199 | 0.0033 | 0.0101 | 0.0065 | 0.0115 | 0.0193 | 0.0157 |\n",
       "| M | 0.0323 | 0.0101 | 0.0298 | 0.0564 | 0.0760 | 0.0958 | 0.0990 | 0.1018 | 0.1030 | ⋯ | 0.0051 | 0.0061 | 0.0093 | 0.0135 | 0.0063 | 0.0063 | 0.0034 | 0.0032 | 0.0062 | 0.0067 |\n",
       "| M | 0.0522 | 0.0437 | 0.0180 | 0.0292 | 0.0351 | 0.1171 | 0.1257 | 0.1178 | 0.1258 | ⋯ | 0.0155 | 0.0160 | 0.0029 | 0.0051 | 0.0062 | 0.0089 | 0.0140 | 0.0138 | 0.0077 | 0.0031 |\n",
       "| M | 0.0303 | 0.0353 | 0.0490 | 0.0608 | 0.0167 | 0.1354 | 0.1465 | 0.1123 | 0.1945 | ⋯ | 0.0042 | 0.0086 | 0.0046 | 0.0126 | 0.0036 | 0.0035 | 0.0034 | 0.0079 | 0.0036 | 0.0048 |\n",
       "| M | 0.0260 | 0.0363 | 0.0136 | 0.0272 | 0.0214 | 0.0338 | 0.0655 | 0.1400 | 0.1843 | ⋯ | 0.0181 | 0.0146 | 0.0129 | 0.0047 | 0.0039 | 0.0061 | 0.0040 | 0.0036 | 0.0061 | 0.0115 |\n",
       "\n"
      ],
      "text/plain": [
       "   categories X1     X2     X3     X4     X5     X6     X7     X8     X9     ⋯\n",
       "1  M          0.0238 0.0318 0.0422 0.0399 0.0788 0.0766 0.0881 0.1143 0.1594 ⋯\n",
       "2  M          0.0116 0.0744 0.0367 0.0225 0.0076 0.0545 0.1110 0.1069 0.1708 ⋯\n",
       "3  M          0.0131 0.0387 0.0329 0.0078 0.0721 0.1341 0.1626 0.1902 0.2610 ⋯\n",
       "4  M          0.0335 0.0258 0.0398 0.0570 0.0529 0.1091 0.1709 0.1684 0.1865 ⋯\n",
       "5  M          0.0272 0.0378 0.0488 0.0848 0.1127 0.1103 0.1349 0.2337 0.3113 ⋯\n",
       "6  M          0.0187 0.0346 0.0168 0.0177 0.0393 0.1630 0.2028 0.1694 0.2328 ⋯\n",
       "7  M          0.0323 0.0101 0.0298 0.0564 0.0760 0.0958 0.0990 0.1018 0.1030 ⋯\n",
       "8  M          0.0522 0.0437 0.0180 0.0292 0.0351 0.1171 0.1257 0.1178 0.1258 ⋯\n",
       "9  M          0.0303 0.0353 0.0490 0.0608 0.0167 0.1354 0.1465 0.1123 0.1945 ⋯\n",
       "10 M          0.0260 0.0363 0.0136 0.0272 0.0214 0.0338 0.0655 0.1400 0.1843 ⋯\n",
       "   X51    X52    X53    X54    X55    X56    X57    X58    X59    X60   \n",
       "1  0.0186 0.0096 0.0071 0.0084 0.0038 0.0026 0.0028 0.0013 0.0035 0.0060\n",
       "2  0.0202 0.0141 0.0103 0.0100 0.0034 0.0026 0.0037 0.0044 0.0057 0.0035\n",
       "3  0.0137 0.0150 0.0076 0.0032 0.0037 0.0071 0.0040 0.0009 0.0015 0.0085\n",
       "4  0.0130 0.0120 0.0039 0.0053 0.0062 0.0046 0.0045 0.0022 0.0005 0.0031\n",
       "5  0.0146 0.0091 0.0045 0.0043 0.0043 0.0098 0.0054 0.0051 0.0065 0.0103\n",
       "6  0.0203 0.0116 0.0098 0.0199 0.0033 0.0101 0.0065 0.0115 0.0193 0.0157\n",
       "7  0.0051 0.0061 0.0093 0.0135 0.0063 0.0063 0.0034 0.0032 0.0062 0.0067\n",
       "8  0.0155 0.0160 0.0029 0.0051 0.0062 0.0089 0.0140 0.0138 0.0077 0.0031\n",
       "9  0.0042 0.0086 0.0046 0.0126 0.0036 0.0035 0.0034 0.0079 0.0036 0.0048\n",
       "10 0.0181 0.0146 0.0129 0.0047 0.0039 0.0061 0.0040 0.0036 0.0061 0.0115"
      ]
     },
     "metadata": {},
     "output_type": "display_data"
    }
   ],
   "source": [
    "data <- read_csv(\"https://archive.ics.uci.edu/ml/machine-learning-databases/undocumented/connectionist-bench/sonar/sonar.all-data\", col_names=FALSE)\n",
    "\n",
    "data1 <- read_csv(\"https://archive.ics.uci.edu/ml/machine-learning-databases/undocumented/connectionist-bench/sonar/sonar.all-data\", col_names=FALSE) %>%\n",
    "    select(-X61)\n",
    "\n",
    "categories <- read_csv(\"https://archive.ics.uci.edu/ml/machine-learning-databases/undocumented/connectionist-bench/sonar/sonar.all-data\", col_names=FALSE) %>%\n",
    "    pull(X61)\n",
    "\n",
    "sonar_data <- tibble(categories, data1) %>%\n",
    "    mutate(categories = as_factor(categories))\n",
    "\n",
    "tail(sonar_data, 10) # only last 10 rows will be outputted as a preview"
   ]
  },
  {
   "cell_type": "markdown",
   "metadata": {},
   "source": [
    "### Tidying the data"
   ]
  },
  {
   "cell_type": "code",
   "execution_count": 7,
   "metadata": {},
   "outputs": [
    {
     "name": "stderr",
     "output_type": "stream",
     "text": [
      "Parsed with column specification:\n",
      "cols(\n",
      "  .default = col_double(),\n",
      "  X61 = \u001b[31mcol_character()\u001b[39m\n",
      ")\n",
      "\n",
      "See spec(...) for full column specifications.\n",
      "\n",
      "Parsed with column specification:\n",
      "cols(\n",
      "  .default = col_double(),\n",
      "  X61 = \u001b[31mcol_character()\u001b[39m\n",
      ")\n",
      "\n",
      "See spec(...) for full column specifications.\n",
      "\n"
     ]
    }
   ],
   "source": [
    "data1 <- read_csv(\"https://archive.ics.uci.edu/ml/machine-learning-databases/undocumented/connectionist-bench/sonar/sonar.all-data\", col_names=FALSE) %>%\n",
    "    select(-X61)\n",
    "\n",
    "categories <- read_csv(\"https://archive.ics.uci.edu/ml/machine-learning-databases/undocumented/connectionist-bench/sonar/sonar.all-data\", col_names=FALSE) %>%\n",
    "    pull(X61)\n",
    "\n",
    "sonar_data <- tibble(categories, data1) %>%\n",
    "    mutate(categories = as_factor(categories))"
   ]
  },
  {
   "cell_type": "markdown",
   "metadata": {},
   "source": [
    "### Finding the mean\n",
    "We plan to find the mean of each energy frequency as an indicator to classify by, and we will also do a second plot classifying by all the rows from X1:X60. "
   ]
  },
  {
   "cell_type": "code",
   "execution_count": 8,
   "metadata": {},
   "outputs": [
    {
     "data": {
      "text/html": [
       "<table>\n",
       "<caption>A rowwise_df: 5 × 64</caption>\n",
       "<thead>\n",
       "\t<tr><th scope=col>categories</th><th scope=col>mean</th><th scope=col>mean1</th><th scope=col>mean2</th><th scope=col>X1</th><th scope=col>X2</th><th scope=col>X3</th><th scope=col>X4</th><th scope=col>X5</th><th scope=col>X6</th><th scope=col>⋯</th><th scope=col>X51</th><th scope=col>X52</th><th scope=col>X53</th><th scope=col>X54</th><th scope=col>X55</th><th scope=col>X56</th><th scope=col>X57</th><th scope=col>X58</th><th scope=col>X59</th><th scope=col>X60</th></tr>\n",
       "\t<tr><th scope=col>&lt;fct&gt;</th><th scope=col>&lt;dbl&gt;</th><th scope=col>&lt;dbl&gt;</th><th scope=col>&lt;dbl&gt;</th><th scope=col>&lt;dbl&gt;</th><th scope=col>&lt;dbl&gt;</th><th scope=col>&lt;dbl&gt;</th><th scope=col>&lt;dbl&gt;</th><th scope=col>&lt;dbl&gt;</th><th scope=col>&lt;dbl&gt;</th><th scope=col>⋯</th><th scope=col>&lt;dbl&gt;</th><th scope=col>&lt;dbl&gt;</th><th scope=col>&lt;dbl&gt;</th><th scope=col>&lt;dbl&gt;</th><th scope=col>&lt;dbl&gt;</th><th scope=col>&lt;dbl&gt;</th><th scope=col>&lt;dbl&gt;</th><th scope=col>&lt;dbl&gt;</th><th scope=col>&lt;dbl&gt;</th><th scope=col>&lt;dbl&gt;</th></tr>\n",
       "</thead>\n",
       "<tbody>\n",
       "\t<tr><td>M</td><td>0.2519833</td><td>0.3813500</td><td>0.1226167</td><td>0.0187</td><td>0.0346</td><td>0.0168</td><td>0.0177</td><td>0.0393</td><td>0.1630</td><td>⋯</td><td>0.0203</td><td>0.0116</td><td>0.0098</td><td>0.0199</td><td>0.0033</td><td>0.0101</td><td>0.0065</td><td>0.0115</td><td>0.0193</td><td>0.0157</td></tr>\n",
       "\t<tr><td>M</td><td>0.2529883</td><td>0.3767733</td><td>0.1292033</td><td>0.0323</td><td>0.0101</td><td>0.0298</td><td>0.0564</td><td>0.0760</td><td>0.0958</td><td>⋯</td><td>0.0051</td><td>0.0061</td><td>0.0093</td><td>0.0135</td><td>0.0063</td><td>0.0063</td><td>0.0034</td><td>0.0032</td><td>0.0062</td><td>0.0067</td></tr>\n",
       "\t<tr><td>M</td><td>0.2416850</td><td>0.3553500</td><td>0.1280200</td><td>0.0522</td><td>0.0437</td><td>0.0180</td><td>0.0292</td><td>0.0351</td><td>0.1171</td><td>⋯</td><td>0.0155</td><td>0.0160</td><td>0.0029</td><td>0.0051</td><td>0.0062</td><td>0.0089</td><td>0.0140</td><td>0.0138</td><td>0.0077</td><td>0.0031</td></tr>\n",
       "\t<tr><td>M</td><td>0.2397050</td><td>0.3697000</td><td>0.1097100</td><td>0.0303</td><td>0.0353</td><td>0.0490</td><td>0.0608</td><td>0.0167</td><td>0.1354</td><td>⋯</td><td>0.0042</td><td>0.0086</td><td>0.0046</td><td>0.0126</td><td>0.0036</td><td>0.0035</td><td>0.0034</td><td>0.0079</td><td>0.0036</td><td>0.0048</td></tr>\n",
       "\t<tr><td>M</td><td>0.2515450</td><td>0.3783767</td><td>0.1247133</td><td>0.0260</td><td>0.0363</td><td>0.0136</td><td>0.0272</td><td>0.0214</td><td>0.0338</td><td>⋯</td><td>0.0181</td><td>0.0146</td><td>0.0129</td><td>0.0047</td><td>0.0039</td><td>0.0061</td><td>0.0040</td><td>0.0036</td><td>0.0061</td><td>0.0115</td></tr>\n",
       "</tbody>\n",
       "</table>\n"
      ],
      "text/latex": [
       "A rowwise\\_df: 5 × 64\n",
       "\\begin{tabular}{lllllllllllllllllllll}\n",
       " categories & mean & mean1 & mean2 & X1 & X2 & X3 & X4 & X5 & X6 & ⋯ & X51 & X52 & X53 & X54 & X55 & X56 & X57 & X58 & X59 & X60\\\\\n",
       " <fct> & <dbl> & <dbl> & <dbl> & <dbl> & <dbl> & <dbl> & <dbl> & <dbl> & <dbl> & ⋯ & <dbl> & <dbl> & <dbl> & <dbl> & <dbl> & <dbl> & <dbl> & <dbl> & <dbl> & <dbl>\\\\\n",
       "\\hline\n",
       "\t M & 0.2519833 & 0.3813500 & 0.1226167 & 0.0187 & 0.0346 & 0.0168 & 0.0177 & 0.0393 & 0.1630 & ⋯ & 0.0203 & 0.0116 & 0.0098 & 0.0199 & 0.0033 & 0.0101 & 0.0065 & 0.0115 & 0.0193 & 0.0157\\\\\n",
       "\t M & 0.2529883 & 0.3767733 & 0.1292033 & 0.0323 & 0.0101 & 0.0298 & 0.0564 & 0.0760 & 0.0958 & ⋯ & 0.0051 & 0.0061 & 0.0093 & 0.0135 & 0.0063 & 0.0063 & 0.0034 & 0.0032 & 0.0062 & 0.0067\\\\\n",
       "\t M & 0.2416850 & 0.3553500 & 0.1280200 & 0.0522 & 0.0437 & 0.0180 & 0.0292 & 0.0351 & 0.1171 & ⋯ & 0.0155 & 0.0160 & 0.0029 & 0.0051 & 0.0062 & 0.0089 & 0.0140 & 0.0138 & 0.0077 & 0.0031\\\\\n",
       "\t M & 0.2397050 & 0.3697000 & 0.1097100 & 0.0303 & 0.0353 & 0.0490 & 0.0608 & 0.0167 & 0.1354 & ⋯ & 0.0042 & 0.0086 & 0.0046 & 0.0126 & 0.0036 & 0.0035 & 0.0034 & 0.0079 & 0.0036 & 0.0048\\\\\n",
       "\t M & 0.2515450 & 0.3783767 & 0.1247133 & 0.0260 & 0.0363 & 0.0136 & 0.0272 & 0.0214 & 0.0338 & ⋯ & 0.0181 & 0.0146 & 0.0129 & 0.0047 & 0.0039 & 0.0061 & 0.0040 & 0.0036 & 0.0061 & 0.0115\\\\\n",
       "\\end{tabular}\n"
      ],
      "text/markdown": [
       "\n",
       "A rowwise_df: 5 × 64\n",
       "\n",
       "| categories &lt;fct&gt; | mean &lt;dbl&gt; | mean1 &lt;dbl&gt; | mean2 &lt;dbl&gt; | X1 &lt;dbl&gt; | X2 &lt;dbl&gt; | X3 &lt;dbl&gt; | X4 &lt;dbl&gt; | X5 &lt;dbl&gt; | X6 &lt;dbl&gt; | ⋯ ⋯ | X51 &lt;dbl&gt; | X52 &lt;dbl&gt; | X53 &lt;dbl&gt; | X54 &lt;dbl&gt; | X55 &lt;dbl&gt; | X56 &lt;dbl&gt; | X57 &lt;dbl&gt; | X58 &lt;dbl&gt; | X59 &lt;dbl&gt; | X60 &lt;dbl&gt; |\n",
       "|---|---|---|---|---|---|---|---|---|---|---|---|---|---|---|---|---|---|---|---|---|\n",
       "| M | 0.2519833 | 0.3813500 | 0.1226167 | 0.0187 | 0.0346 | 0.0168 | 0.0177 | 0.0393 | 0.1630 | ⋯ | 0.0203 | 0.0116 | 0.0098 | 0.0199 | 0.0033 | 0.0101 | 0.0065 | 0.0115 | 0.0193 | 0.0157 |\n",
       "| M | 0.2529883 | 0.3767733 | 0.1292033 | 0.0323 | 0.0101 | 0.0298 | 0.0564 | 0.0760 | 0.0958 | ⋯ | 0.0051 | 0.0061 | 0.0093 | 0.0135 | 0.0063 | 0.0063 | 0.0034 | 0.0032 | 0.0062 | 0.0067 |\n",
       "| M | 0.2416850 | 0.3553500 | 0.1280200 | 0.0522 | 0.0437 | 0.0180 | 0.0292 | 0.0351 | 0.1171 | ⋯ | 0.0155 | 0.0160 | 0.0029 | 0.0051 | 0.0062 | 0.0089 | 0.0140 | 0.0138 | 0.0077 | 0.0031 |\n",
       "| M | 0.2397050 | 0.3697000 | 0.1097100 | 0.0303 | 0.0353 | 0.0490 | 0.0608 | 0.0167 | 0.1354 | ⋯ | 0.0042 | 0.0086 | 0.0046 | 0.0126 | 0.0036 | 0.0035 | 0.0034 | 0.0079 | 0.0036 | 0.0048 |\n",
       "| M | 0.2515450 | 0.3783767 | 0.1247133 | 0.0260 | 0.0363 | 0.0136 | 0.0272 | 0.0214 | 0.0338 | ⋯ | 0.0181 | 0.0146 | 0.0129 | 0.0047 | 0.0039 | 0.0061 | 0.0040 | 0.0036 | 0.0061 | 0.0115 |\n",
       "\n"
      ],
      "text/plain": [
       "  categories mean      mean1     mean2     X1     X2     X3     X4     X5    \n",
       "1 M          0.2519833 0.3813500 0.1226167 0.0187 0.0346 0.0168 0.0177 0.0393\n",
       "2 M          0.2529883 0.3767733 0.1292033 0.0323 0.0101 0.0298 0.0564 0.0760\n",
       "3 M          0.2416850 0.3553500 0.1280200 0.0522 0.0437 0.0180 0.0292 0.0351\n",
       "4 M          0.2397050 0.3697000 0.1097100 0.0303 0.0353 0.0490 0.0608 0.0167\n",
       "5 M          0.2515450 0.3783767 0.1247133 0.0260 0.0363 0.0136 0.0272 0.0214\n",
       "  X6     ⋯ X51    X52    X53    X54    X55    X56    X57    X58    X59   \n",
       "1 0.1630 ⋯ 0.0203 0.0116 0.0098 0.0199 0.0033 0.0101 0.0065 0.0115 0.0193\n",
       "2 0.0958 ⋯ 0.0051 0.0061 0.0093 0.0135 0.0063 0.0063 0.0034 0.0032 0.0062\n",
       "3 0.1171 ⋯ 0.0155 0.0160 0.0029 0.0051 0.0062 0.0089 0.0140 0.0138 0.0077\n",
       "4 0.1354 ⋯ 0.0042 0.0086 0.0046 0.0126 0.0036 0.0035 0.0034 0.0079 0.0036\n",
       "5 0.0338 ⋯ 0.0181 0.0146 0.0129 0.0047 0.0039 0.0061 0.0040 0.0036 0.0061\n",
       "  X60   \n",
       "1 0.0157\n",
       "2 0.0067\n",
       "3 0.0031\n",
       "4 0.0048\n",
       "5 0.0115"
      ]
     },
     "metadata": {},
     "output_type": "display_data"
    }
   ],
   "source": [
    "average_data <- sonar_data %>%\n",
    "    rowwise() %>%\n",
    "    mutate(mean2 = mean(c_across(X31:X60)), `.after` = categories) %>%\n",
    "    mutate(mean1 = mean(c_across(X1:X30)), `.after` = categories) %>%\n",
    "    mutate(mean = mean(c_across(X1:X60)), `.after` = categories) \n",
    "\n",
    "tail(average_data, 5) # previewing the average plots"
   ]
  },
  {
   "cell_type": "markdown",
   "metadata": {},
   "source": [
    "## Plot"
   ]
  },
  {
   "cell_type": "markdown",
   "metadata": {},
   "source": [
    "We will compare and classify based on two plots, one plot being X1 and X2 and another plot being the mean frequency from the first 30 rows of the data and the mean frequency from the next 30 rows of data. Using the two plots, we will compare how accurate the knn model is with each to get a better idea whether to take the mean or to find sample frequencies. "
   ]
  },
  {
   "cell_type": "code",
   "execution_count": 13,
   "metadata": {},
   "outputs": [],
   "source": [
    "options(repr.plot.width = 10, repr.plot.height = 8)\n",
    "\n",
    "average_plot <- ggplot(average_data, aes(x = mean1, y = mean2, , colour = categories)) +\n",
    "    geom_point(alpha = 0.9, size = 2.5) +\n",
    "        labs(x = \"Frequency from mean1\",\n",
    "             y = \"Frequency from mean2\",\n",
    "            colour = \"Category\") +\n",
    "        ggtitle(\"Frequency from mean 2 vs Frequency from mean 1\") +\n",
    "        theme(text = element_text(size = 20),\n",
    "             legend.position = \"bottom\",\n",
    "             legend.direction = \"vertially\")"
   ]
  },
  {
   "cell_type": "code",
   "execution_count": 14,
   "metadata": {},
   "outputs": [],
   "source": [
    "sonar_data_plot <- sonar_data %>%\n",
    "    ggplot(aes(x = X1, \n",
    "               y = X2, \n",
    "               colour = categories)) +\n",
    "        labs(x = \"Frequency from X1\",\n",
    "             y = \"Frequency from X2\",\n",
    "            colour = \"Category\") +\n",
    "        geom_point(alpha = 0.9, size = 2.5) +\n",
    "        ggtitle(\"X2 Frequency vs X1 Frequency\") +\n",
    "        theme(text = element_text(size = 20),\n",
    "             legend.position = \"bottom\",\n",
    "             legend.direction = \"vertially\")"
   ]
  },
  {
   "cell_type": "code",
   "execution_count": 15,
   "metadata": {},
   "outputs": [
    {
     "ename": "ERROR",
     "evalue": "Error in if (!g$title.position %in% c(\"top\", \"bottom\", \"left\", \"right\")) {: argument is of length zero\n",
     "output_type": "error",
     "traceback": [
      "Error in if (!g$title.position %in% c(\"top\", \"bottom\", \"left\", \"right\")) {: argument is of length zero\nTraceback:\n",
      "1. plot_grid(average_plot, sonar_data_plot)",
      "2. align_plots(plotlist = plots, align = align, axis = axis, greedy = greedy)",
      "3. lapply(plots, function(x) {\n .     if (!is.null(x)) \n .         as_gtable(x)\n .     else NULL\n . })",
      "4. FUN(X[[i]], ...)",
      "5. as_gtable(x)",
      "6. as_gtable.default(x)",
      "7. as_grob(plot)",
      "8. as_grob.ggplot(plot)",
      "9. ggplot2::ggplotGrob(plot)",
      "10. ggplot_gtable(ggplot_build(x))",
      "11. ggplot_gtable.ggplot_built(ggplot_build(x))",
      "12. build_guides(plot$scales, plot$layers, plot$mapping, position, \n  .     theme, plot$guides, plot$labels)",
      "13. guides_gengrob(gdefs, theme)",
      "14. lapply(gdefs, function(g) {\n  .     g$title.position <- g$title.position %||% switch(g$direction, \n  .         vertical = \"top\", horizontal = \"left\")\n  .     if (!g$title.position %in% c(\"top\", \"bottom\", \"left\", \"right\")) {\n  .         abort(glue(\"title position '{g$title.position}' is invalid\"))\n  .     }\n  .     g\n  . })",
      "15. FUN(X[[i]], ...)"
     ]
    }
   ],
   "source": [
    "options(repr.plot.width = 20, repr.plot.height = 8)\n",
    "\n",
    "plot_grid(average_plot, sonar_data_plot)"
   ]
  },
  {
   "cell_type": "markdown",
   "metadata": {},
   "source": [
    "# Method\n",
    "To conduct our anaylsis we will look at the different columns,X1,X2 etc and comapare the values that are given off, in order to identify what values are given off certain objects when certain frequencies from sonar apparatus are used. Additionally, we will split the data into two same size portions, and we will use the mean of the two portions to anaylsis the properties of different objects (rocks or mines). We will use scatterplots so that we are able to use classification methods to predict future values that may be obtained to identify whether it is a rock or a mine (metallic object).\n",
    "\n",
    "## Expected Outcomes and Significance\n",
    "From this we expect to be able to use our graphs and analysis to predict the types of objects that are under water. Essentialy our analysis can be used by scientists and sailors who need to map out their journeys and avoid things like shipwrecks. Moreover, divers who are intrested in cleaning the seafloors can benefit from such data.\n"
   ]
  },
  {
   "cell_type": "code",
   "execution_count": null,
   "metadata": {},
   "outputs": [],
   "source": []
  }
 ],
 "metadata": {
  "kernelspec": {
   "display_name": "R",
   "language": "R",
   "name": "ir"
  },
  "language_info": {
   "codemirror_mode": "r",
   "file_extension": ".r",
   "mimetype": "text/x-r-source",
   "name": "R",
   "pygments_lexer": "r",
   "version": "4.0.0"
  }
 },
 "nbformat": 4,
 "nbformat_minor": 4
}
